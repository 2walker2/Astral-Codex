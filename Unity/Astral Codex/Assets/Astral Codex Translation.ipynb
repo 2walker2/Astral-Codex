{
 "cells": [
  {
   "cell_type": "code",
   "execution_count": null,
   "id": "684579f2",
   "metadata": {
    "scrolled": true
   },
   "outputs": [
    {
     "name": "stdin",
     "output_type": "stream",
     "text": [
      " mode\n"
     ]
    },
    {
     "name": "stdout",
     "output_type": "stream",
     "text": [
      "Decoding\n"
     ]
    },
    {
     "name": "stdin",
     "output_type": "stream",
     "text": [
      " })& >;\"[* };|%[/\" ;/|&]([{)\n"
     ]
    },
    {
     "name": "stdout",
     "output_type": "stream",
     "text": [
      "THE MAGIC TALKING ANLERFISH\n"
     ]
    },
    {
     "name": "stdin",
     "output_type": "stream",
     "text": [
      " . >[{{&_ ; \"\n"
     ]
    },
    {
     "name": "stdout",
     "output_type": "stream",
     "text": [
      "U MISSEJ A G\n"
     ]
    },
    {
     "name": "stdin",
     "output_type": "stream",
     "text": [
      " })& >;\"[* };|%[/\" ;/\"|&]([{)\n"
     ]
    },
    {
     "name": "stdout",
     "output_type": "stream",
     "text": [
      "THE MAGIC TALKING ANGLERFISH\n"
     ]
    }
   ],
   "source": [
    "keys = {\n",
    "    'A': (';'),\n",
    "    'B': ('@'),\n",
    "    'C': ('*'),\n",
    "    'D': ('&lt;','<'),\n",
    "    'E': ('&#38;','&'),\n",
    "    'F': ('('),\n",
    "    'G': ('&#34;','\"'),\n",
    "    'H': (')'),\n",
    "    'I': ('['),\n",
    "    'J': ('_'),\n",
    "    'K': ('%'),\n",
    "    'L': ('|'),\n",
    "    'M': ('&gt;','>'),\n",
    "    'N': ('/'),\n",
    "    'O': ('?'),\n",
    "    'P': ('+'),\n",
    "    'Q': ('#'),\n",
    "    'R': (']'),\n",
    "    'S': ('{'),\n",
    "    'T': ('}'),\n",
    "    'U': ('.'),\n",
    "    'V': ('~'),\n",
    "    'W': ('-'),\n",
    "    'X': ('!'),\n",
    "    'Y': ('^'),\n",
    "    'Z': ('$'),\n",
    "    ' ': (' ')\n",
    "}\n",
    "\n",
    "xmlMode = True\n",
    "encode = True\n",
    "while True:\n",
    "    text = input()\n",
    "    if text.upper()==\"Q\":\n",
    "        break\n",
    "    elif text.upper()==\"XML\":\n",
    "        xmlMode = not xmlMode\n",
    "        print(\"XML Mode: \"+str(xmlMode))\n",
    "        continue\n",
    "    elif text.upper()==\"MODE\":\n",
    "        encode = not encode\n",
    "        if encode:\n",
    "            print(\"Encoding\")\n",
    "        else:\n",
    "            print(\"Decoding\")\n",
    "        continue\n",
    "    output = \"\"\n",
    "    for char in text:\n",
    "        if encode:\n",
    "            encoded = keys[char.upper()]\n",
    "            if xmlMode:\n",
    "                output+=encoded[0]\n",
    "            else:\n",
    "                output+=encoded[min(1,len(encoded)-1)]\n",
    "        else:\n",
    "            for key, value in keys.items():\n",
    "                if value[len(value) - 1] == char:\n",
    "                    output += key\n",
    "                    break\n",
    "    print(output)"
   ]
  },
  {
   "cell_type": "code",
   "execution_count": null,
   "id": "67287bb1",
   "metadata": {},
   "outputs": [],
   "source": []
  },
  {
   "cell_type": "code",
   "execution_count": null,
   "id": "cfa095a4",
   "metadata": {},
   "outputs": [],
   "source": []
  }
 ],
 "metadata": {
  "kernelspec": {
   "display_name": "Python 3.11 (default)",
   "language": "python",
   "name": "python3"
  },
  "language_info": {
   "codemirror_mode": {
    "name": "ipython",
    "version": 3
   },
   "file_extension": ".py",
   "mimetype": "text/x-python",
   "name": "python",
   "nbconvert_exporter": "python",
   "pygments_lexer": "ipython3",
   "version": "3.11.9"
  }
 },
 "nbformat": 4,
 "nbformat_minor": 5
}
