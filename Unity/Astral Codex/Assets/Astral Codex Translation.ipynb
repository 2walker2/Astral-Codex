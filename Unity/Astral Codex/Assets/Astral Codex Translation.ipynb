{
 "cells": [
  {
   "cell_type": "code",
   "execution_count": null,
   "id": "684579f2",
   "metadata": {
    "scrolled": true
   },
   "outputs": [
    {
     "name": "stdin",
     "output_type": "stream",
     "text": [
      " xml\n"
     ]
    },
    {
     "name": "stdout",
     "output_type": "stream",
     "text": [
      "XML Mode: False\n"
     ]
    },
    {
     "name": "stdin",
     "output_type": "stream",
     "text": [
      " thank you\n"
     ]
    },
    {
     "name": "stdout",
     "output_type": "stream",
     "text": [
      "});/% ^?.\n"
     ]
    }
   ],
   "source": [
    "key = {\n",
    "    'A': (';'),\n",
    "    'B': ('@'),\n",
    "    'C': ('*'),\n",
    "    'D': ('&lt;','<'),\n",
    "    'E': ('&#38;','&'),\n",
    "    'F': ('('),\n",
    "    'G': ('&#34;','\"'),\n",
    "    'H': (')'),\n",
    "    'I': ('['),\n",
    "    'J': ('_'),\n",
    "    'K': ('%'),\n",
    "    'L': ('|'),\n",
    "    'M': ('&gt;','>'),\n",
    "    'N': ('/'),\n",
    "    'O': ('?'),\n",
    "    'P': ('+'),\n",
    "    'Q': ('#'),\n",
    "    'R': (']'),\n",
    "    'S': ('{'),\n",
    "    'T': ('}'),\n",
    "    'U': ('.'),\n",
    "    'V': ('~'),\n",
    "    'W': ('-'),\n",
    "    'X': ('!'),\n",
    "    'Y': ('^'),\n",
    "    'Z': ('$'),\n",
    "    ' ': (' ')\n",
    "}\n",
    "\n",
    "xmlMode = True\n",
    "while True:\n",
    "    text = input()\n",
    "    if text.upper()==\"Q\":\n",
    "        break\n",
    "    if text.upper()==\"XML\":\n",
    "        xmlMode = not xmlMode\n",
    "        print(\"XML Mode: \"+str(xmlMode))\n",
    "        continue\n",
    "    output = \"\"\n",
    "    for i in text:\n",
    "        decoded = key[i.upper()]\n",
    "        if xmlMode:\n",
    "            output+=decoded[0]\n",
    "        else:\n",
    "            output+=decoded[min(1,len(decoded)-1)]  \n",
    "    print(output)"
   ]
  },
  {
   "cell_type": "code",
   "execution_count": null,
   "id": "67287bb1",
   "metadata": {},
   "outputs": [],
   "source": []
  },
  {
   "cell_type": "code",
   "execution_count": null,
   "id": "cfa095a4",
   "metadata": {},
   "outputs": [],
   "source": []
  }
 ],
 "metadata": {
  "kernelspec": {
   "display_name": "Python 3.11 (default)",
   "language": "python",
   "name": "python3"
  },
  "language_info": {
   "codemirror_mode": {
    "name": "ipython",
    "version": 3
   },
   "file_extension": ".py",
   "mimetype": "text/x-python",
   "name": "python",
   "nbconvert_exporter": "python",
   "pygments_lexer": "ipython3",
   "version": "3.11.6"
  }
 },
 "nbformat": 4,
 "nbformat_minor": 5
}
